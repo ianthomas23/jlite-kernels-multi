{
  "metadata": {
    "kernelspec": {
      "name": "xr",
      "display_name": "R 4.5.0 (xr)",
      "language": "R"
    },
    "language_info": {
      "codemirror_mode": "",
      "file_extension": "R",
      "mimetype": "text/x-R",
      "name": "R",
      "nbconvert_exporter": "",
      "pygments_lexer": "",
      "version": "4.5.0"
    }
  },
  "nbformat_minor": 5,
  "nbformat": 4,
  "cells": [
    {
      "id": "cb903b7b-64f2-4eeb-a121-511045c6423a",
      "cell_type": "code",
      "source": "name <- readline(\"Name\")",
      "metadata": {
        "trusted": true
      },
      "outputs": [],
      "execution_count": null
    },
    {
      "id": "55b9755d-79ad-4967-b6aa-ab1d68142e23",
      "cell_type": "code",
      "source": "name",
      "metadata": {
        "trusted": true
      },
      "outputs": [],
      "execution_count": null
    }
  ]
}