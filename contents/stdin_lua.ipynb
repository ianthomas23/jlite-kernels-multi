{
  "metadata": {
    "kernelspec": {
      "name": "xlua",
      "display_name": "Lua  (XLua)",
      "language": "lua"
    },
    "language_info": {
      "file_extension": "",
      "mimetype": "text/x-luasrc",
      "name": "",
      "version": "14.0.0"
    }
  },
  "nbformat_minor": 5,
  "nbformat": 4,
  "cells": [
    {
      "id": "22b7fe2b-be92-4fd8-83a0-efea3b219f02",
      "cell_type": "code",
      "source": "name = io.read()",
      "metadata": {
        "trusted": true
      },
      "outputs": [],
      "execution_count": null
    },
    {
      "id": "afa1cfd6-6753-4cd5-a249-fa014c7ed703",
      "cell_type": "code",
      "source": "name",
      "metadata": {
        "trusted": true
      },
      "outputs": [],
      "execution_count": null
    },
    {
      "id": "b5401b7c-a1a9-4365-a385-44e724d4624c",
      "cell_type": "code",
      "source": "",
      "metadata": {
        "trusted": true
      },
      "outputs": [],
      "execution_count": null
    }
  ]
}