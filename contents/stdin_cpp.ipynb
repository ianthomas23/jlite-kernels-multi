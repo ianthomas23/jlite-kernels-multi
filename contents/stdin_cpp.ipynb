{
  "metadata": {
    "kernelspec": {
      "name": "xcpp20",
      "display_name": "C++20",
      "language": "cpp"
    },
    "language_info": {
      "codemirror_mode": "text/x-c++src",
      "file_extension": ".cpp",
      "mimetype": "text/x-c++src",
      "name": "C++",
      "version": "20"
    }
  },
  "nbformat_minor": 5,
  "nbformat": 4,
  "cells": [
    {
      "id": "9f674337-71bd-42b0-9e5b-2d24a6454d28",
      "cell_type": "code",
      "source": "#include <iostream>",
      "metadata": {
        "trusted": true
      },
      "outputs": [],
      "execution_count": null
    },
    {
      "id": "3d9baa6f-b1e7-4c7f-85ac-1c8024e08b5e",
      "cell_type": "code",
      "source": "int i;\nfloat f;\nstd::cin >> i >> f;",
      "metadata": {
        "trusted": true
      },
      "outputs": [],
      "execution_count": null
    },
    {
      "id": "76d28514-e780-42f3-852f-331881f64bb8",
      "cell_type": "code",
      "source": "std::cout << \"Read integer \" << i << \" and float \" << f << std::endl;",
      "metadata": {
        "trusted": true
      },
      "outputs": [],
      "execution_count": null
    }
  ]
}